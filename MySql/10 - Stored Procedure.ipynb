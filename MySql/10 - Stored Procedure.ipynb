{
 "cells": [
  {
   "cell_type": "markdown",
   "id": "ae18ec4d",
   "metadata": {},
   "source": [
    "# Stored Procedure"
   ]
  },
  {
   "cell_type": "markdown",
   "id": "39be96fd",
   "metadata": {},
   "source": [
    "When we need to write some same query again & again then we can use procedure\n",
    "Here you save these repeated query as a stored procedure and call it by name\n",
    "\n",
    "It's similar kind of function.\n",
    "\n",
    "\n",
    "1) Use **CREATE PROCEDURE PROCEDURE_NAME** or **CREATE PROC PROCEDURE_NAME** statement to create the sp\n",
    "\n",
    "2) To execute the stored procedure---- **EXECUTE PROCEDURE_NAME**\n",
    "\n",
    "\n",
    "SQL Right side=> Stored Procedure(Right click and create procedure there):\n",
    "\n",
    "CREATE PROCEDURE `spgetData`()\n",
    "BEGIN\n",
    "select Name, Gender from tblEmployee;\n",
    "END\n",
    "\n",
    "\n",
    "\n",
    "then call this in sql query tool:\n",
    "\n",
    "spgetData()"
   ]
  },
  {
   "cell_type": "code",
   "execution_count": 1,
   "id": "3e9d8cef",
   "metadata": {},
   "outputs": [
    {
     "ename": "SyntaxError",
     "evalue": "invalid syntax (<ipython-input-1-ba6562cbe05f>, line 3)",
     "output_type": "error",
     "traceback": [
      "\u001b[1;36m  File \u001b[1;32m\"<ipython-input-1-ba6562cbe05f>\"\u001b[1;36m, line \u001b[1;32m3\u001b[0m\n\u001b[1;33m    create procedure 'sp_getData'()\u001b[0m\n\u001b[1;37m                   ^\u001b[0m\n\u001b[1;31mSyntaxError\u001b[0m\u001b[1;31m:\u001b[0m invalid syntax\n"
     ]
    }
   ],
   "source": [
    "# Creating another sp:\n",
    "\n",
    "create procedure 'sp_getData'()\n",
    "Begin\n",
    "select id, Name from tblemployee;\n",
    "End\n",
    "\n",
    "\n",
    "# Call\n",
    "sp_getData()\n",
    "\n",
    "\n",
    "\n"
   ]
  },
  {
   "cell_type": "code",
   "execution_count": null,
   "id": "dc2bd40e",
   "metadata": {},
   "outputs": [],
   "source": [
    "# Creating with default condition:\n",
    "\n",
    "create procedure getData()\n",
    "Begin\n",
    "\n",
    "select * from tblEmployee where id =2;\n",
    "\n",
    "End\n",
    "\n",
    "\n",
    "#Call the procedure\n",
    "call getEmpInfo();\n",
    "\n"
   ]
  },
  {
   "cell_type": "code",
   "execution_count": null,
   "id": "379a14a9",
   "metadata": {},
   "outputs": [],
   "source": [
    "# Create With parameter\n",
    "\n",
    "[IN | OUT | INOUT] parameter_name datatype[(length)]\n",
    "\n",
    "First, specify the parameter mode, which can be IN , OUT or INOUT depending on the purpose of the parameter in the stored procedure.\n",
    "\n",
    "Second, specify the name of the parameter. The parameter name must follow the naming rules of the column name in MySQL.\n",
    "\n",
    "Third, specify the data type and maximum length of the parameter."
   ]
  },
  {
   "cell_type": "code",
   "execution_count": null,
   "id": "382c2ae9",
   "metadata": {},
   "outputs": [],
   "source": [
    "#In- Bcoz we want to take input of some values\n",
    "\n",
    "\n",
    "create procedure 'getData' (in id int)\n",
    "Begin\n",
    "select * from employee.id=id;\n",
    "End\n",
    "\n",
    "#Call the procedure\n",
    "call getEmpInfo2(2)\n",
    "\n"
   ]
  },
  {
   "cell_type": "code",
   "execution_count": null,
   "id": "cd386a6f",
   "metadata": {},
   "outputs": [],
   "source": [
    "# out-  Now we want to return some values\n",
    "\n",
    "create procedure 'getData'(out records int)\n",
    "Begin\n",
    "\n",
    "select count(*) into records from tblEmployee where tblEmployee= 1;\n",
    "\n",
    "End\n",
    "\n",
    "\n",
    "\n",
    "\n",
    "#Call procedure\n",
    "#Give output like the\n",
    "call getData(@records)\n",
    "select @records as Total_records\n"
   ]
  },
  {
   "cell_type": "code",
   "execution_count": null,
   "id": "599ea4dd",
   "metadata": {},
   "outputs": [],
   "source": [
    "# Now using in and out in one procedure\n",
    "\n",
    "CREATE PROCEDURE `getData`(in id int, out records int)\n",
    "BEGIN\n",
    "\n",
    "select count(*) into records from tblEmployee where tblEmployee.deapartment= id;\n",
    "\n",
    "END\n",
    "\n",
    "\n",
    "\n",
    "#Calling procedure\n",
    "\n",
    "call getEmpInfo4(1, @records);\n",
    "select @records as Total_records\n"
   ]
  },
  {
   "cell_type": "code",
   "execution_count": null,
   "id": "472859c8",
   "metadata": {},
   "outputs": [],
   "source": []
  },
  {
   "cell_type": "code",
   "execution_count": null,
   "id": "5d7426f6",
   "metadata": {},
   "outputs": [],
   "source": []
  },
  {
   "cell_type": "code",
   "execution_count": null,
   "id": "520261a7",
   "metadata": {},
   "outputs": [],
   "source": []
  },
  {
   "cell_type": "code",
   "execution_count": null,
   "id": "55cce82d",
   "metadata": {},
   "outputs": [],
   "source": []
  },
  {
   "cell_type": "code",
   "execution_count": null,
   "id": "5e9b55f9",
   "metadata": {},
   "outputs": [],
   "source": []
  }
 ],
 "metadata": {
  "kernelspec": {
   "display_name": "Python 3",
   "language": "python",
   "name": "python3"
  },
  "language_info": {
   "codemirror_mode": {
    "name": "ipython",
    "version": 3
   },
   "file_extension": ".py",
   "mimetype": "text/x-python",
   "name": "python",
   "nbconvert_exporter": "python",
   "pygments_lexer": "ipython3",
   "version": "3.7.3"
  }
 },
 "nbformat": 4,
 "nbformat_minor": 5
}
