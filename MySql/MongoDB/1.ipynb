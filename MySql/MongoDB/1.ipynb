{
 "cells": [
  {
   "cell_type": "markdown",
   "id": "dd4f49a6",
   "metadata": {},
   "source": [
    "## Mongodb\n",
    "\n",
    "=> NoSQL type \n",
    "\n",
    "**Benefit-**\n",
    "Schema is not strict like sql, it's dynamic\n",
    "Data is stored in document oriented approach(means it will be stored in JSON document)\n",
    "JSON format means in Key Value formats so the retreival process becomes very fast.\n",
    "\n",
    "\n",
    "In MongoDB--- Table is called as **Collection**\n",
    "\n",
    "It supports **GeoSpatial Query**\n",
    "\n",
    "Easily integrated with **Big Data**\n",
    "\n",
    "Highly scalable, easy to understand, performance is very high\n",
    "\n",
    "**Limitation**\n",
    "If High Transaction data then don't use it(like Banking System) bcoz schema is not fixed\n",
    "\n",
    "\n"
   ]
  },
  {
   "cell_type": "code",
   "execution_count": null,
   "id": "020e0db5",
   "metadata": {},
   "outputs": [],
   "source": [
    "# Install it\n",
    "\n",
    "Open this path : C-ProgramsFile=> Mongo DB => Server => 4.4 => bin\n",
    "    Open cmd here\n",
    "    mongo.exe\n",
    "    \n",
    "    \n",
    "Open MongoDB Compass    \n",
    "    \n",
    "    \n",
    "\n"
   ]
  },
  {
   "cell_type": "markdown",
   "id": "0fd9eabd",
   "metadata": {},
   "source": [
    "##Commands\n",
    "\n",
    "Type in CMD\n",
    "\n",
    "\n",
    "\n",
    "Step- Create Database => Create Collection => Inside collection insert JSON document\n",
    "\n",
    "\n",
    "##Create Database\n",
    "Use Employee (until unless you don't insert any record it will not present in mongodb)\n",
    "              \n",
    "\n",
    "#### Collection name and insert record\n",
    "              \n",
    "Syntax\n",
    "              **db.collection_name.insertOne({})**\n",
    "\n",
    "\n",
    "=> db.collection.insertOne({'first_name':'Krish', 'last_name': 'Naik'})\n",
    "\n",
    "Now Refresh the compass you will get the output\n",
    "\n",
    "\n",
    "#### Multiple insert at one time\n",
    "\n",
    "**db.collection.insertMany([{}, {}, {}......])**\n",
    "\n",
    "\n",
    "=> db.collection.insertMany([{'first_name': 'Krish1', 'last_name':'Naik1'}, {'first_name': 'Krish2', 'last_name':'Naik2', 'Age': 26}]) \n",
    "\n",
    "\n",
    "So Now multiple record has been inserted, here we change the schema as well.\n",
    "\n",
    "\n",
    "\n",
    "### Query \n",
    "\n",
    "**db.collection.find({})**--------- Will give you all the result\n",
    "\n",
    "\n",
    "#### With_condition\n",
    "\n",
    "**db.collection.find({'first_name':'Krish'})**---------- Will give result where first_name is Krish\n",
    "\n",
    "\n",
    "pip install pymongo\n",
    "\n",
    "\n",
    "              \n",
    "              \n",
    "\n",
    "\n"
   ]
  },
  {
   "cell_type": "code",
   "execution_count": 1,
   "id": "b205d341",
   "metadata": {},
   "outputs": [],
   "source": [
    "import pymongo"
   ]
  },
  {
   "cell_type": "code",
   "execution_count": 3,
   "id": "0c24d3bd",
   "metadata": {},
   "outputs": [],
   "source": [
    "client=pymongo.MongoClient('mongodb://127.0.0.1:27017/')"
   ]
  },
  {
   "cell_type": "code",
   "execution_count": 4,
   "id": "79e728eb",
   "metadata": {},
   "outputs": [],
   "source": [
    "# Create Database\n",
    "\n",
    "mydb = client[\"Employee\"]\n",
    "\n"
   ]
  },
  {
   "cell_type": "code",
   "execution_count": 5,
   "id": "54322e51",
   "metadata": {},
   "outputs": [],
   "source": [
    "#Create the collection \n",
    "\n",
    "information= mydb.employee_info"
   ]
  },
  {
   "cell_type": "code",
   "execution_count": 8,
   "id": "4f3ca4cb",
   "metadata": {},
   "outputs": [
    {
     "data": {
      "text/plain": [
       "<pymongo.results.InsertOneResult at 0x22fe9d27f48>"
      ]
     },
     "execution_count": 8,
     "metadata": {},
     "output_type": "execute_result"
    }
   ],
   "source": [
    "# Insert Record\n",
    "\n",
    "record={'first_name': 'Krish', 'last_name':'Naik', 'dep': 'CS'}\n",
    "\n",
    "information.insert_one(record)\n"
   ]
  },
  {
   "cell_type": "code",
   "execution_count": null,
   "id": "42e5fe2a",
   "metadata": {},
   "outputs": [],
   "source": [
    "# How can you work with nested document?\n",
    "\n"
   ]
  },
  {
   "cell_type": "code",
   "execution_count": null,
   "id": "99d283ee",
   "metadata": {},
   "outputs": [],
   "source": []
  },
  {
   "cell_type": "code",
   "execution_count": null,
   "id": "8ca17ab3",
   "metadata": {},
   "outputs": [],
   "source": []
  },
  {
   "cell_type": "code",
   "execution_count": null,
   "id": "ed6e77e3",
   "metadata": {},
   "outputs": [],
   "source": []
  },
  {
   "cell_type": "code",
   "execution_count": null,
   "id": "790590b8",
   "metadata": {},
   "outputs": [],
   "source": []
  },
  {
   "cell_type": "code",
   "execution_count": null,
   "id": "5aee8712",
   "metadata": {},
   "outputs": [],
   "source": []
  },
  {
   "cell_type": "code",
   "execution_count": null,
   "id": "06aa1751",
   "metadata": {},
   "outputs": [],
   "source": []
  }
 ],
 "metadata": {
  "kernelspec": {
   "display_name": "Python 3",
   "language": "python",
   "name": "python3"
  },
  "language_info": {
   "codemirror_mode": {
    "name": "ipython",
    "version": 3
   },
   "file_extension": ".py",
   "mimetype": "text/x-python",
   "name": "python",
   "nbconvert_exporter": "python",
   "pygments_lexer": "ipython3",
   "version": "3.7.3"
  }
 },
 "nbformat": 4,
 "nbformat_minor": 5
}
